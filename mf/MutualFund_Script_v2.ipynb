{
 "cells": [
  {
   "cell_type": "code",
   "execution_count": 3,
   "metadata": {
    "colab": {
     "base_uri": "https://localhost:8080/"
    },
    "colab_type": "code",
    "id": "KGYvqv5Bnmp8",
    "outputId": "edd8e0a8-f1c1-4d9b-b4be-c7286811db16"
   },
   "outputs": [],
   "source": [
    "# Import dependencies\n",
    "# pip install required only first time when this file is run on a system\n",
    "# !pip install wrds \n",
    "import wrds\n",
    "import pandas as pd\n",
    "import sqlalchemy \n",
    "import psycopg2 \n"
   ]
  },
  {
   "cell_type": "markdown",
   "metadata": {
    "colab_type": "text",
    "id": "4_opBXIjnmqH"
   },
   "source": [
    "## Define and setup starting database "
   ]
  },
  {
   "cell_type": "code",
   "execution_count": 4,
   "metadata": {
    "colab": {
     "base_uri": "https://localhost:8080/",
     "height": 190
    },
    "colab_type": "code",
    "id": "MNqR4GwknmqH",
    "outputId": "152a2591-144d-4b26-c610-7c8a450099cf"
   },
   "outputs": [],
   "source": [
    "conn = psycopg2.connect(dbname='wrds', \n",
    "                        user='', \n",
    "                        host='wrds-pgdata.wharton.upenn.edu', \n",
    "                        port=9737,\n",
    "                        password='')"
   ]
  },
  {
   "cell_type": "code",
   "execution_count": 5,
   "metadata": {},
   "outputs": [],
   "source": [
    "# Upload the local files to pandas dataframe\n",
    "inputfile = pd.read_csv(\"tickers.csv\")\n",
    "mappingtable = pd.read_csv(\"tickermapping.csv\")"
   ]
  },
  {
   "cell_type": "code",
   "execution_count": 6,
   "metadata": {},
   "outputs": [],
   "source": [
    "# Yet to check whether the same ticker / fund no is used in the history which might creates errors\n",
    "# For now, Keeping only the desired columns and Removing multiples to create unique matches \n",
    "mappingtable = mappingtable.drop(['summary_period2', 'caldt', 'fund_name'], axis=1)\n",
    "mappingtable = mappingtable.dropna() #there were NaN values in ticker for many of them\n",
    "mappingtable = mappingtable.drop_duplicates(subset=['ticker'],keep = 'last')\n",
    "mappingtable = mappingtable.reset_index(drop= True)\n",
    "mappingtable.sort_values(by='ticker',inplace=True)"
   ]
  },
  {
   "cell_type": "code",
   "execution_count": 7,
   "metadata": {},
   "outputs": [],
   "source": [
    "# Merging based on the tickers- one to one didnt happen until I dropped all duplicates of ticker \n",
    "## -- needs to checked-- currently it keeps the last observation sorted on date\n",
    "required_mfs = pd.merge(left = inputfile, right = mappingtable, how = 'left',on = 'ticker', validate = \"one_to_one\")"
   ]
  },
  {
   "cell_type": "code",
   "execution_count": 8,
   "metadata": {},
   "outputs": [
    {
     "name": "stdout",
     "output_type": "stream",
     "text": [
      "(91, 1)\n",
      "(91, 2)\n"
     ]
    }
   ],
   "source": [
    "# Check if all tickers were found\n",
    "print(inputfile.shape)\n",
    "print(required_mfs.shape)\n",
    "# this matches the input file shape so all the tickers were found."
   ]
  },
  {
   "cell_type": "code",
   "execution_count": 10,
   "metadata": {},
   "outputs": [
    {
     "data": {
      "text/plain": [
       "91"
      ]
     },
     "execution_count": 10,
     "metadata": {},
     "output_type": "execute_result"
    }
   ],
   "source": [
    "#Create a list of crsp_fundno to be used\n",
    "fund_number=list(required_mfs['crsp_fundno'].values)\n",
    "len(fund_number)"
   ]
  },
  {
   "cell_type": "code",
   "execution_count": 33,
   "metadata": {
    "colab": {},
    "colab_type": "code",
    "id": "BLnT8edznmqK",
    "jupyter": {
     "outputs_hidden": true
    }
   },
   "outputs": [],
   "source": [
    "# # Checking connection and statement with single query, keeping this if required to run\n",
    "# mfdaily = pd.read_sql_query(\"\"\"SELECT * FROM crspq.daily_nav_ret where crsp_fundno =3173;\"\"\", conn)\n",
    "\n",
    "# # mfdaily = db.raw_sql(\"SELECT * FROM crspq.daily_nav_ret where crsp_fundno =3173\")\n",
    "# mfdaily.head()"
   ]
  },
  {
   "cell_type": "code",
   "execution_count": 12,
   "metadata": {},
   "outputs": [
    {
     "name": "stdout",
     "output_type": "stream",
     "text": [
      "(3817, 4)\n",
      "(3165, 4)\n",
      "(5240, 4)\n",
      "(5240, 4)\n",
      "(3186, 4)\n",
      "(4383, 4)\n",
      "(5240, 4)\n",
      "(5161, 4)\n",
      "(5240, 4)\n",
      "(5240, 4)\n",
      "(5240, 4)\n",
      "(4778, 4)\n",
      "(4108, 4)\n",
      "(5240, 4)\n",
      "(5240, 4)\n",
      "(5240, 4)\n",
      "(5240, 4)\n",
      "(3678, 4)\n",
      "(4193, 4)\n",
      "(4599, 4)\n",
      "(4745, 4)\n",
      "(5240, 4)\n",
      "(5240, 4)\n",
      "(5240, 4)\n",
      "(5240, 4)\n",
      "(5240, 4)\n",
      "(5240, 4)\n",
      "(5240, 4)\n",
      "(5240, 4)\n",
      "(4520, 4)\n",
      "(5240, 4)\n",
      "(4028, 4)\n",
      "(5240, 4)\n",
      "(5031, 4)\n",
      "(5240, 4)\n",
      "(5240, 4)\n",
      "(4007, 4)\n",
      "(5240, 4)\n",
      "(5240, 4)\n",
      "(5017, 4)\n",
      "(5240, 4)\n",
      "(3755, 4)\n",
      "(5240, 4)\n",
      "(4035, 4)\n",
      "(5240, 4)\n",
      "(3185, 4)\n",
      "(5240, 4)\n",
      "(5240, 4)\n",
      "(5240, 4)\n",
      "(5240, 4)\n",
      "(5240, 4)\n",
      "(5240, 4)\n",
      "(5240, 4)\n",
      "(3021, 4)\n",
      "(2958, 4)\n",
      "(2934, 4)\n",
      "(2764, 4)\n",
      "(2764, 4)\n",
      "(2888, 4)\n",
      "(2645, 4)\n",
      "(2406, 4)\n",
      "(2272, 4)\n",
      "(2243, 4)\n",
      "(2142, 4)\n",
      "(2132, 4)\n",
      "(2093, 4)\n",
      "(2090, 4)\n",
      "(2095, 4)\n",
      "(1987, 4)\n",
      "(1943, 4)\n",
      "(1840, 4)\n",
      "(1789, 4)\n",
      "(1781, 4)\n",
      "(1692, 4)\n",
      "(1650, 4)\n",
      "(1635, 4)\n",
      "(1575, 4)\n",
      "(1423, 4)\n",
      "(1388, 4)\n",
      "(1378, 4)\n",
      "(1283, 4)\n",
      "(1240, 4)\n",
      "(1044, 4)\n",
      "(796, 4)\n",
      "(754, 4)\n",
      "(426, 4)\n",
      "(329, 4)\n",
      "(310, 4)\n",
      "(251, 4)\n",
      "(251, 4)\n",
      "(136, 4)\n"
     ]
    },
    {
     "data": {
      "text/plain": [
       "(321899, 4)"
      ]
     },
     "execution_count": 12,
     "metadata": {},
     "output_type": "execute_result"
    }
   ],
   "source": [
    "#Create an empty dataframe to add all values \n",
    "dailyreturns = pd.DataFrame()\n",
    "\n",
    "for fundno in fund_number:\n",
    "    query = f'SELECT * FROM crspq.daily_nav_ret WHERE crsp_fundno = {fundno};'\n",
    "    mfdaily =  pd.read_sql_query(query,conn)\n",
    "    dailyreturns = dailyreturns.append(mfdaily)\n",
    "    print(mfdaily.shape) #just to check if it's returning something\n",
    "    \n",
    "\n",
    "dailyreturns.shape"
   ]
  },
  {
   "cell_type": "code",
   "execution_count": 13,
   "metadata": {
    "colab": {},
    "colab_type": "code",
    "id": "9wCFfuMdnmq8"
   },
   "outputs": [],
   "source": [
    "# Save files to single file\n",
    "# !pip install xlsxwriter #required to run only first time\n",
    "import xlsxwriter\n",
    "\n",
    "writer = pd.ExcelWriter('mfreturns.xlsx', engine='xlsxwriter')\n",
    "\n",
    "dailyreturns.to_excel(writer, sheet_name='returns')\n",
    "required_mfs.to_excel(writer, sheet_name='fundno_ticker')\n",
    "\n",
    "\n",
    "writer.save()"
   ]
  },
  {
   "cell_type": "markdown",
   "metadata": {},
   "source": [
    "### Creating some visualizations"
   ]
  },
  {
   "cell_type": "code",
   "execution_count": 16,
   "metadata": {
    "colab": {},
    "colab_type": "code",
    "id": "xmi_SA-Znmq9",
    "outputId": "3ff29c3b-ec70-455a-966f-a503654c7451"
   },
   "outputs": [
    {
     "data": {
      "text/html": [
       "<div>\n",
       "<style scoped>\n",
       "    .dataframe tbody tr th:only-of-type {\n",
       "        vertical-align: middle;\n",
       "    }\n",
       "\n",
       "    .dataframe tbody tr th {\n",
       "        vertical-align: top;\n",
       "    }\n",
       "\n",
       "    .dataframe thead th {\n",
       "        text-align: right;\n",
       "    }\n",
       "</style>\n",
       "<table border=\"1\" class=\"dataframe\">\n",
       "  <thead>\n",
       "    <tr style=\"text-align: right;\">\n",
       "      <th></th>\n",
       "      <th>crsp_fundno</th>\n",
       "      <th>caldt</th>\n",
       "      <th>dnav</th>\n",
       "      <th>dret</th>\n",
       "    </tr>\n",
       "  </thead>\n",
       "  <tbody>\n",
       "    <tr>\n",
       "      <th>0</th>\n",
       "      <td>3173.0</td>\n",
       "      <td>2004-04-30</td>\n",
       "      <td>10.03</td>\n",
       "      <td>NaN</td>\n",
       "    </tr>\n",
       "    <tr>\n",
       "      <th>1</th>\n",
       "      <td>3173.0</td>\n",
       "      <td>2004-05-03</td>\n",
       "      <td>10.02</td>\n",
       "      <td>-0.000997</td>\n",
       "    </tr>\n",
       "    <tr>\n",
       "      <th>2</th>\n",
       "      <td>3173.0</td>\n",
       "      <td>2004-05-04</td>\n",
       "      <td>10.02</td>\n",
       "      <td>0.000000</td>\n",
       "    </tr>\n",
       "    <tr>\n",
       "      <th>3</th>\n",
       "      <td>3173.0</td>\n",
       "      <td>2004-05-05</td>\n",
       "      <td>10.01</td>\n",
       "      <td>-0.000998</td>\n",
       "    </tr>\n",
       "    <tr>\n",
       "      <th>4</th>\n",
       "      <td>3173.0</td>\n",
       "      <td>2004-05-06</td>\n",
       "      <td>10.01</td>\n",
       "      <td>0.000000</td>\n",
       "    </tr>\n",
       "  </tbody>\n",
       "</table>\n",
       "</div>"
      ],
      "text/plain": [
       "   crsp_fundno       caldt   dnav      dret\n",
       "0       3173.0  2004-04-30  10.03       NaN\n",
       "1       3173.0  2004-05-03  10.02 -0.000997\n",
       "2       3173.0  2004-05-04  10.02  0.000000\n",
       "3       3173.0  2004-05-05  10.01 -0.000998\n",
       "4       3173.0  2004-05-06  10.01  0.000000"
      ]
     },
     "execution_count": 16,
     "metadata": {},
     "output_type": "execute_result"
    }
   ],
   "source": [
    "dailyreturns.head()"
   ]
  },
  {
   "cell_type": "code",
   "execution_count": 17,
   "metadata": {},
   "outputs": [],
   "source": [
    "import matplotlib as plt"
   ]
  },
  {
   "cell_type": "code",
   "execution_count": null,
   "metadata": {},
   "outputs": [],
   "source": []
  }
 ],
 "metadata": {
  "colab": {
   "collapsed_sections": [
    "fwDLGJgInmqx",
    "WQflxRqqnmq-"
   ],
   "name": "MutualFund Script",
   "provenance": [],
   "version": "0.3.2"
  },
  "kernelspec": {
   "display_name": "Python 3",
   "language": "python",
   "name": "python3"
  },
  "language_info": {
   "codemirror_mode": {
    "name": "ipython",
    "version": 3
   },
   "file_extension": ".py",
   "mimetype": "text/x-python",
   "name": "python",
   "nbconvert_exporter": "python",
   "pygments_lexer": "ipython3",
   "version": "3.7.3"
  }
 },
 "nbformat": 4,
 "nbformat_minor": 4
}
