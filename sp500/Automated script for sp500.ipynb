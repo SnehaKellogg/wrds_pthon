{
 "cells": [
  {
   "cell_type": "code",
   "execution_count": 4,
   "metadata": {},
   "outputs": [
    {
     "name": "stdout",
     "output_type": "stream",
     "text": [
      "Collecting wrds\n",
      "  Using cached https://files.pythonhosted.org/packages/1c/35/9d86097c36a8528a1f5bbc3815c161c2dfce7fffc28e10cfd7c9726c1ac0/wrds-3.0.8-py3-none-any.whl\n",
      "Collecting mock (from wrds)\n",
      "  Downloading https://files.pythonhosted.org/packages/05/d2/f94e68be6b17f46d2c353564da56e6fb89ef09faeeff3313a046cb810ca9/mock-3.0.5-py2.py3-none-any.whl\n",
      "Requirement already satisfied: sqlalchemy in /Users/snehakumari/anaconda3/lib/python3.7/site-packages (from wrds) (1.3.1)\n",
      "Collecting psycopg2-binary (from wrds)\n",
      "  Using cached https://files.pythonhosted.org/packages/ee/ed/2772267467ba5c21a73d37149da0b49a4343c6646d501dbb1450b492d40a/psycopg2_binary-2.8.3-cp37-cp37m-macosx_10_6_intel.macosx_10_9_intel.macosx_10_9_x86_64.macosx_10_10_intel.macosx_10_10_x86_64.whl\n",
      "Requirement already satisfied: pandas in /Users/snehakumari/anaconda3/lib/python3.7/site-packages (from wrds) (0.24.2)\n",
      "Requirement already satisfied: six in /Users/snehakumari/anaconda3/lib/python3.7/site-packages (from mock->wrds) (1.12.0)\n",
      "Requirement already satisfied: numpy>=1.12.0 in /Users/snehakumari/anaconda3/lib/python3.7/site-packages (from pandas->wrds) (1.16.2)\n",
      "Requirement already satisfied: pytz>=2011k in /Users/snehakumari/anaconda3/lib/python3.7/site-packages (from pandas->wrds) (2018.9)\n",
      "Requirement already satisfied: python-dateutil>=2.5.0 in /Users/snehakumari/anaconda3/lib/python3.7/site-packages (from pandas->wrds) (2.8.0)\n",
      "Installing collected packages: mock, psycopg2-binary, wrds\n",
      "Successfully installed mock-3.0.5 psycopg2-binary-2.8.3 wrds-3.0.8\n"
     ]
    }
   ],
   "source": [
    "# Import dependencies\n",
    "# !pip install wrds # required only first time when this file is run on a system\n",
    "import wrds\n",
    "import pandas as pd"
   ]
  },
  {
   "cell_type": "markdown",
   "metadata": {},
   "source": [
    "## Setting up connection"
   ]
  },
  {
   "cell_type": "code",
   "execution_count": 6,
   "metadata": {},
   "outputs": [
    {
     "name": "stdout",
     "output_type": "stream",
     "text": [
      "Loading library list...\n",
      "Done\n",
      "Enter your WRDS username [snehakumari]:sk1986\n",
      "Enter your password:········\n"
     ]
    }
   ],
   "source": [
    "db = wrds.Connection(wrds_username='sk1986')\n",
    "db.create_pgpass_file()\n",
    "# run this to close connection\n",
    "# db.close()"
   ]
  },
  {
   "cell_type": "code",
   "execution_count": 92,
   "metadata": {},
   "outputs": [
    {
     "name": "stdout",
     "output_type": "stream",
     "text": [
      "Loading library list...\n",
      "Done\n"
     ]
    }
   ],
   "source": [
    "db = wrds.Connection(wrds_username='sk1986') ##run this if you get logged out at any stage -- change this to your username"
   ]
  },
  {
   "cell_type": "markdown",
   "metadata": {},
   "source": [
    "List of db funtionc available:\n",
    "db.close()\n",
    "db.connection()\n",
    "db.describe_table()\n",
    "db.get_table()\n",
    "db.list_tables()\n",
    "db.raw_sql()\n",
    "db.get_row_count()\n",
    "db.list_libraries()\n",
    "\n",
    "help(db.get_table)\n",
    "help(db.raw_sql)\n",
    "\n",
    "db.get_table('djones', 'djdaily', columns=['date', 'dji'], obs=10)\n",
    "\n",
    "db.raw_sql('select date,dji from djones.djdaily LIMIT 10;', date_cols=['date'])"
   ]
  },
  {
   "cell_type": "raw",
   "metadata": {
    "collapsed": true
   },
   "source": [
    "db.list_libraries()"
   ]
  },
  {
   "cell_type": "raw",
   "metadata": {
    "collapsed": true
   },
   "source": [
    "db.list_tables('compd')"
   ]
  },
  {
   "cell_type": "markdown",
   "metadata": {},
   "source": [
    "## Update sp500 constituents list"
   ]
  },
  {
   "cell_type": "raw",
   "metadata": {
    "collapsed": true
   },
   "source": [
    "db.describe_table('compd','idxcst_his')"
   ]
  },
  {
   "cell_type": "markdown",
   "metadata": {},
   "source": [
    "#### gvkeyx for S&P500 index is 000003, so we will filter out that in our query\n",
    "Finding the gvkeyx for sp500 index -- it is located in this\n",
    "https://wrds-www.wharton.upenn.edu/search_variables/\n",
    "Query to locate the same if we need to demonstrate:\n",
    "index_names = db.raw_sql(\"select * from compd.idx_index\")\n",
    "index_names.head()"
   ]
  },
  {
   "cell_type": "code",
   "execution_count": 8,
   "metadata": {},
   "outputs": [],
   "source": [
    "index_sp500 = db.raw_sql(\"SELECT * FROM compd.idxcst_his where gvkeyx = '000003'\")"
   ]
  },
  {
   "cell_type": "raw",
   "metadata": {
    "collapsed": true
   },
   "source": [
    "index_sp500.head()\n",
    "# Cross checked from stata table query that it is returning same number of entries"
   ]
  },
  {
   "cell_type": "markdown",
   "metadata": {},
   "source": [
    "### Collecting data for Cash Flow, Income & Balance sheet items from wrds server"
   ]
  },
  {
   "cell_type": "raw",
   "metadata": {
    "collapsed": true
   },
   "source": [
    "db.describe_table('compd','funda')"
   ]
  },
  {
   "cell_type": "code",
   "execution_count": 9,
   "metadata": {},
   "outputs": [],
   "source": [
    "cf_raw = db.raw_sql(\"\"\"\n",
    "        SELECT gvkey,datadate,fyear,indfmt,consol,popsrc,datafmt,tic,cusip,conm,curcd,fyr,stalt,aoloch,apalch,aqc,capx,chech,dlcch,dltis,dltr,dpc,dv,esubc,exre,fiao,fincf,fopo,ibc,intpn,invch,ivaco,ivch,ivncf,ivstch,oancf,prstkc,recch,siv,sppe,sppiv,sstk,txach,txdc,txpd,xidoc,exchg,costat \n",
    "        FROM compd.funda\n",
    "        \"\"\")"
   ]
  },
  {
   "cell_type": "code",
   "execution_count": 10,
   "metadata": {},
   "outputs": [],
   "source": [
    "is_raw = db.raw_sql(\"\"\"\n",
    "        SELECT gvkey,datadate,fyear,indfmt,consol,popsrc,datafmt,tic,cusip,conm,curcd,fyr,stalt,cogs,cstke,dp,dvp,ib,ibadj,ibcom,mii,ni,niadj,nopi,oiadp,oibdp,pi,sale,spi,txt,xido,xint,xrd,xsga,exchg,costat\n",
    "        FROM compd.funda\n",
    "        \"\"\")"
   ]
  },
  {
   "cell_type": "code",
   "execution_count": 11,
   "metadata": {},
   "outputs": [],
   "source": [
    "bs_raw = db.raw_sql(\"\"\"\n",
    "        SELECT gvkey,datadate,fyear,indfmt,consol,popsrc,datafmt,tic,cusip,conm,curcd,curncd,fyr,stalt,aco,act,ao,ap,at,ceq,che,dlc,dltt,intan,invt,ivaeq,ivao,lco,lct,lo,lt,mib,ppent,pstk,rect,seq,txditc,txp,exchg\n",
    "        FROM compd.funda\n",
    "        \"\"\")"
   ]
  },
  {
   "cell_type": "raw",
   "metadata": {
    "collapsed": true
   },
   "source": [
    "cf_raw.head()"
   ]
  },
  {
   "cell_type": "markdown",
   "metadata": {},
   "source": [
    "##### Clean the files to achieve unique gvkey/year pair. The cleaning filters are the same for the three. "
   ]
  },
  {
   "cell_type": "markdown",
   "metadata": {},
   "source": [
    "Following filters are to be applied: \n",
    "    \n",
    "    1) From wrds interface: popsrc = D, consol = C, datafmt = STD\n",
    "    \n",
    "    2) From logic: curcd = USD, indfmt != FS"
   ]
  },
  {
   "cell_type": "code",
   "execution_count": 12,
   "metadata": {},
   "outputs": [],
   "source": [
    "#Filtering cash flow\n",
    "\n",
    "cf_filtered = cf_raw[cf_raw['curcd']=='USD']\n",
    "cf_filtered = cf_filtered[cf_filtered['indfmt']!='FS']\n",
    "cf_filtered = cf_filtered[cf_filtered['datafmt']=='STD']\n",
    "cf_filtered = cf_filtered[cf_filtered['popsrc']=='D']\n",
    "cf_filtered = cf_filtered[cf_filtered['consol']=='C']"
   ]
  },
  {
   "cell_type": "code",
   "execution_count": 13,
   "metadata": {},
   "outputs": [],
   "source": [
    "#Filtering balance sheet\n",
    "\n",
    "bs_filtered = bs_raw[bs_raw['curcd']=='USD']\n",
    "bs_filtered = bs_filtered[bs_filtered['indfmt']!='FS']\n",
    "bs_filtered = bs_filtered[bs_filtered['datafmt']=='STD']\n",
    "bs_filtered = bs_filtered[bs_filtered['popsrc']=='D']\n",
    "bs_filtered = bs_filtered[bs_filtered['consol']=='C']"
   ]
  },
  {
   "cell_type": "code",
   "execution_count": 14,
   "metadata": {},
   "outputs": [],
   "source": [
    "#Filtering income statement\n",
    "\n",
    "is_filtered = is_raw[is_raw['curcd']=='USD']\n",
    "is_filtered = is_filtered[is_filtered['indfmt']!='FS']\n",
    "is_filtered = is_filtered[is_filtered['datafmt']=='STD']\n",
    "is_filtered = is_filtered[is_filtered['popsrc']=='D']\n",
    "is_filtered = is_filtered[is_filtered['consol']=='C']"
   ]
  },
  {
   "cell_type": "markdown",
   "metadata": {},
   "source": [
    "##### One line code for the section below after adding year line --however slightly slow for big dataset\n",
    "\n",
    "cf = cf_filtered[cf_lastreport = cf_filtered.groupby(['gvkey', 'year'])['datadate'].transform(max)==cf_filtered['datadate']]"
   ]
  },
  {
   "cell_type": "code",
   "execution_count": 15,
   "metadata": {},
   "outputs": [
    {
     "data": {
      "text/plain": [
       "(0, 50)"
      ]
     },
     "execution_count": 15,
     "metadata": {},
     "output_type": "execute_result"
    }
   ],
   "source": [
    "# Adding year from datadate to extract last report\n",
    "cf_filtered['year'] = pd.DatetimeIndex(cf_filtered['datadate']).year\n",
    "\n",
    "# filtering rows which has the lastreport for that year to get a unique pair of gvkey/year\n",
    "cf_grouped = cf_filtered.groupby(['gvkey', 'year']).agg({'datadate':'max'})\n",
    "cf_grouped = cf_grouped.reset_index()\n",
    "cf_grouped = cf_grouped.rename(columns={'datadate':'lastreport'})\n",
    "cf = pd.merge(cf_filtered, cf_grouped, how = 'left', on = ['gvkey', 'year'])\n",
    "cf = cf[cf['datadate'] == cf['lastreport']]\n",
    "\n",
    "#Check if it yields to unique pair (should return (0,))\n",
    "cf[cf.duplicated(['gvkey', 'year'], keep=False)].shape"
   ]
  },
  {
   "cell_type": "code",
   "execution_count": 16,
   "metadata": {},
   "outputs": [
    {
     "data": {
      "text/plain": [
       "(0, 41)"
      ]
     },
     "execution_count": 16,
     "metadata": {},
     "output_type": "execute_result"
    }
   ],
   "source": [
    "# Adding year from datadate to extract last report\n",
    "bs_filtered['year'] = pd.DatetimeIndex(bs_filtered['datadate']).year\n",
    "\n",
    "# Filtering rows which has the lastreport for that year to get a unique pair of gvkey/year\n",
    "bs_grouped = bs_filtered.groupby(['gvkey', 'year']).agg({'datadate':'max'})\n",
    "bs_grouped = bs_grouped.reset_index()\n",
    "bs_grouped = bs_grouped.rename(columns={'datadate':'lastreport'})\n",
    "bs = pd.merge(bs_filtered, bs_grouped, how = 'left', on = ['gvkey', 'year'])\n",
    "bs = bs[bs['datadate'] == bs['lastreport']]\n",
    "\n",
    "#Check if it yields to unique pair (should return (0,))\n",
    "bs[bs.duplicated(['gvkey', 'year'], keep=False)].shape"
   ]
  },
  {
   "cell_type": "code",
   "execution_count": 17,
   "metadata": {},
   "outputs": [
    {
     "data": {
      "text/plain": [
       "(0, 38)"
      ]
     },
     "execution_count": 17,
     "metadata": {},
     "output_type": "execute_result"
    }
   ],
   "source": [
    "# Adding year from datadate to extract last report\n",
    "is_filtered['year'] = pd.DatetimeIndex(is_filtered['datadate']).year\n",
    "\n",
    "# filtering rows which has the lastreport for that year to get a unique pair of gvkey/year\n",
    "is_grouped = is_filtered.groupby(['gvkey', 'year']).agg({'datadate':'max'})\n",
    "is_grouped = is_grouped.reset_index()\n",
    "is_grouped = is_grouped.rename(columns={'datadate':'lastreport'})\n",
    "is_d = pd.merge(is_filtered, is_grouped, how = 'left', on = ['gvkey', 'year'])\n",
    "is_d = is_d[is_d['datadate'] == is_d['lastreport']]\n",
    "\n",
    "#Check if it yields to unique pair (should return (0,))\n",
    "is_d[is_d.duplicated(['gvkey', 'year'], keep=False)].shape"
   ]
  },
  {
   "cell_type": "code",
   "execution_count": 18,
   "metadata": {},
   "outputs": [
    {
     "data": {
      "text/plain": [
       "(454173, 50)"
      ]
     },
     "execution_count": 18,
     "metadata": {},
     "output_type": "execute_result"
    }
   ],
   "source": [
    "cf.shape"
   ]
  },
  {
   "cell_type": "code",
   "execution_count": 153,
   "metadata": {},
   "outputs": [],
   "source": [
    "# To save the files for export\n",
    "cf_raw.to_csv('cf_raw.csv')\n",
    "is_raw.to_csv('is_raw.csv')\n",
    "bs_raw.to_csv('bs_raw.csv')\n",
    "cf.to_csv('cf_final.csv')\n",
    "is_d.to_csv('is_final.csv')\n",
    "bs.to_csv('bs_final.csv')\n",
    "index_sp500.to_csv('sp500const.csv')"
   ]
  },
  {
   "cell_type": "markdown",
   "metadata": {},
   "source": [
    "##### Merge the cleaned files with sp500 file (using gvkey) and filter the rows where the firms were part of sp500 index "
   ]
  },
  {
   "cell_type": "code",
   "execution_count": 19,
   "metadata": {},
   "outputs": [
    {
     "data": {
      "text/plain": [
       "gvkey     1781\n",
       "iid       1781\n",
       "gvkeyx    1781\n",
       "from      1781\n",
       "thru      1276\n",
       "dtype: int64"
      ]
     },
     "execution_count": 19,
     "metadata": {},
     "output_type": "execute_result"
    }
   ],
   "source": [
    "index_sp500.count(axis = 0)"
   ]
  },
  {
   "cell_type": "code",
   "execution_count": 20,
   "metadata": {},
   "outputs": [],
   "source": [
    "#Arranging index file to get year and adjust current\n",
    "index_sp500['from_year']= pd.DatetimeIndex(index_sp500['from']).year\n",
    "index_sp500['to_year']= pd.DatetimeIndex(index_sp500['thru']).year\n",
    "index_sp500[\"to_year\"].fillna(2019, inplace=True) # replaces blanks as 2019 year"
   ]
  },
  {
   "cell_type": "markdown",
   "metadata": {},
   "source": [
    "### Merging the data files with index file and then sorting to get unique gvkey datadate pairs"
   ]
  },
  {
   "cell_type": "code",
   "execution_count": 21,
   "metadata": {},
   "outputs": [
    {
     "name": "stderr",
     "output_type": "stream",
     "text": [
      "/Users/snehakumari/anaconda3/lib/python3.7/site-packages/ipykernel_launcher.py:3: SettingWithCopyWarning: \n",
      "A value is trying to be set on a copy of a slice from a DataFrame\n",
      "\n",
      "See the caveats in the documentation: http://pandas.pydata.org/pandas-docs/stable/indexing.html#indexing-view-versus-copy\n",
      "  This is separate from the ipykernel package so we can avoid doing imports until\n"
     ]
    },
    {
     "data": {
      "text/plain": [
       "(0, 56)"
      ]
     },
     "execution_count": 21,
     "metadata": {},
     "output_type": "execute_result"
    }
   ],
   "source": [
    "cf_sp500 = pd.merge(cf, index_sp500, how = 'inner', on = ['gvkey'])\n",
    "cf_sp = cf_sp500[(cf_sp500['year']>=cf_sp500['from_year']) & (cf_sp500['year']<cf_sp500['to_year'])]\n",
    "cf_sp.drop_duplicates(['gvkey', 'datadate'], keep='first',inplace=True)\n",
    "cf_sp.sort_values(by=['gvkey','year']).reset_index()\n",
    "cf_sp[cf_sp.duplicated(['gvkey', 'datadate'], keep=False)].shape"
   ]
  },
  {
   "cell_type": "code",
   "execution_count": 22,
   "metadata": {},
   "outputs": [
    {
     "name": "stderr",
     "output_type": "stream",
     "text": [
      "/Users/snehakumari/anaconda3/lib/python3.7/site-packages/ipykernel_launcher.py:3: SettingWithCopyWarning: \n",
      "A value is trying to be set on a copy of a slice from a DataFrame\n",
      "\n",
      "See the caveats in the documentation: http://pandas.pydata.org/pandas-docs/stable/indexing.html#indexing-view-versus-copy\n",
      "  This is separate from the ipykernel package so we can avoid doing imports until\n"
     ]
    },
    {
     "data": {
      "text/plain": [
       "(0, 47)"
      ]
     },
     "execution_count": 22,
     "metadata": {},
     "output_type": "execute_result"
    }
   ],
   "source": [
    "bs_sp500 = pd.merge(bs, index_sp500, how = 'inner', on = ['gvkey'])\n",
    "bs_sp = bs_sp500[(bs_sp500['year']>=bs_sp500['from_year']) & (bs_sp500['year']<bs_sp500['to_year'])]\n",
    "bs_sp.drop_duplicates(['gvkey', 'datadate'], keep='first',inplace=True)\n",
    "bs_sp.sort_values(by=['gvkey','year']).reset_index()\n",
    "bs_sp[bs_sp.duplicated(['gvkey', 'datadate'], keep=False)].shape"
   ]
  },
  {
   "cell_type": "code",
   "execution_count": 23,
   "metadata": {},
   "outputs": [
    {
     "name": "stderr",
     "output_type": "stream",
     "text": [
      "/Users/snehakumari/anaconda3/lib/python3.7/site-packages/ipykernel_launcher.py:3: SettingWithCopyWarning: \n",
      "A value is trying to be set on a copy of a slice from a DataFrame\n",
      "\n",
      "See the caveats in the documentation: http://pandas.pydata.org/pandas-docs/stable/indexing.html#indexing-view-versus-copy\n",
      "  This is separate from the ipykernel package so we can avoid doing imports until\n"
     ]
    },
    {
     "data": {
      "text/plain": [
       "(0, 44)"
      ]
     },
     "execution_count": 23,
     "metadata": {},
     "output_type": "execute_result"
    }
   ],
   "source": [
    "is_sp500 = pd.merge(is_d, index_sp500, how = 'inner', on = ['gvkey'])\n",
    "is_sp = is_sp500[(is_sp500['year']>=is_sp500['from_year']) & (is_sp500['year']<is_sp500['to_year'])]\n",
    "is_sp.drop_duplicates(['gvkey', 'datadate'], keep='first',inplace=True)\n",
    "is_sp.sort_values(by=['gvkey','year']).reset_index()\n",
    "is_sp[is_sp.duplicated(['gvkey', 'datadate'], keep=False)].shape"
   ]
  },
  {
   "cell_type": "markdown",
   "metadata": {},
   "source": [
    "## Collapse data by year and sequence it as desired"
   ]
  },
  {
   "cell_type": "code",
   "execution_count": 24,
   "metadata": {},
   "outputs": [],
   "source": [
    "bs_nominal = bs_sp.groupby('year')['che','rect','invt','aco','act','ppent','ivaeq','ivao','intan','ao','at','dlc','ap','txp','lco','lct','dltt','lo','txditc','mib','lt','pstk','ceq','seq'].sum()\n",
    "bs_nominal['firm_count']= bs_sp.groupby('year').gvkey.nunique()"
   ]
  },
  {
   "cell_type": "code",
   "execution_count": 25,
   "metadata": {},
   "outputs": [],
   "source": [
    "is_nominal = is_sp.groupby('year')['sale','cogs','xsga','oibdp','dp','oiadp','xint','nopi','spi','pi','txt','mii','ib','dvp','ibcom','cstke','ibadj','xido','niadj','ni','xrd'].sum()\n",
    "is_nominal['firm_count']= is_sp.groupby('year').gvkey.nunique()"
   ]
  },
  {
   "cell_type": "code",
   "execution_count": 26,
   "metadata": {},
   "outputs": [],
   "source": [
    "cf_nominal = cf_sp.groupby('year')['ibc','dpc','xidoc','txdc','esubc','sppiv','fopo','recch','invch','apalch','txach','aoloch','oancf','ivch','siv','ivstch','capx','sppe','aqc','ivaco','ivncf','sstk','prstkc','dv','dltis','dltr','dlcch','fiao','fincf','exre','chech'].sum()\n",
    "cf_nominal['firm_count']= cf_sp.groupby('year').gvkey.nunique()"
   ]
  },
  {
   "cell_type": "code",
   "execution_count": 27,
   "metadata": {},
   "outputs": [],
   "source": [
    "#Tranpose the dataframes\n",
    "cf_nominal = cf_nominal.transpose() \n",
    "is_nominal = is_nominal.transpose()\n",
    "bs_nominal = bs_nominal.transpose()"
   ]
  },
  {
   "cell_type": "code",
   "execution_count": 29,
   "metadata": {},
   "outputs": [
    {
     "data": {
      "text/html": [
       "<div>\n",
       "<style scoped>\n",
       "    .dataframe tbody tr th:only-of-type {\n",
       "        vertical-align: middle;\n",
       "    }\n",
       "\n",
       "    .dataframe tbody tr th {\n",
       "        vertical-align: top;\n",
       "    }\n",
       "\n",
       "    .dataframe thead th {\n",
       "        text-align: right;\n",
       "    }\n",
       "</style>\n",
       "<table border=\"1\" class=\"dataframe\">\n",
       "  <thead>\n",
       "    <tr style=\"text-align: right;\">\n",
       "      <th>year</th>\n",
       "      <th>1964</th>\n",
       "      <th>1965</th>\n",
       "      <th>1966</th>\n",
       "      <th>1967</th>\n",
       "      <th>1968</th>\n",
       "      <th>1969</th>\n",
       "      <th>1970</th>\n",
       "      <th>1971</th>\n",
       "      <th>1972</th>\n",
       "      <th>1973</th>\n",
       "      <th>...</th>\n",
       "      <th>2009</th>\n",
       "      <th>2010</th>\n",
       "      <th>2011</th>\n",
       "      <th>2012</th>\n",
       "      <th>2013</th>\n",
       "      <th>2014</th>\n",
       "      <th>2015</th>\n",
       "      <th>2016</th>\n",
       "      <th>2017</th>\n",
       "      <th>2018</th>\n",
       "    </tr>\n",
       "  </thead>\n",
       "  <tbody>\n",
       "    <tr>\n",
       "      <th>ibc</th>\n",
       "      <td>0.0</td>\n",
       "      <td>0.0</td>\n",
       "      <td>0.0</td>\n",
       "      <td>0.0</td>\n",
       "      <td>0.0</td>\n",
       "      <td>0.0</td>\n",
       "      <td>0.0</td>\n",
       "      <td>25657.248</td>\n",
       "      <td>31259.235</td>\n",
       "      <td>44663.531</td>\n",
       "      <td>...</td>\n",
       "      <td>508484.931</td>\n",
       "      <td>771795.310</td>\n",
       "      <td>886844.517</td>\n",
       "      <td>856770.876</td>\n",
       "      <td>990436.940</td>\n",
       "      <td>985981.035</td>\n",
       "      <td>859660.825</td>\n",
       "      <td>908283.718</td>\n",
       "      <td>1049283.023</td>\n",
       "      <td>1159666.291</td>\n",
       "    </tr>\n",
       "    <tr>\n",
       "      <th>dpc</th>\n",
       "      <td>0.0</td>\n",
       "      <td>0.0</td>\n",
       "      <td>0.0</td>\n",
       "      <td>0.0</td>\n",
       "      <td>0.0</td>\n",
       "      <td>0.0</td>\n",
       "      <td>0.0</td>\n",
       "      <td>25092.648</td>\n",
       "      <td>27930.352</td>\n",
       "      <td>33265.599</td>\n",
       "      <td>...</td>\n",
       "      <td>460597.401</td>\n",
       "      <td>468622.859</td>\n",
       "      <td>494411.512</td>\n",
       "      <td>522737.685</td>\n",
       "      <td>546280.763</td>\n",
       "      <td>569042.876</td>\n",
       "      <td>630134.422</td>\n",
       "      <td>627839.161</td>\n",
       "      <td>659460.831</td>\n",
       "      <td>683014.812</td>\n",
       "    </tr>\n",
       "    <tr>\n",
       "      <th>xidoc</th>\n",
       "      <td>0.0</td>\n",
       "      <td>0.0</td>\n",
       "      <td>0.0</td>\n",
       "      <td>0.0</td>\n",
       "      <td>0.0</td>\n",
       "      <td>0.0</td>\n",
       "      <td>0.0</td>\n",
       "      <td>151.978</td>\n",
       "      <td>485.624</td>\n",
       "      <td>627.298</td>\n",
       "      <td>...</td>\n",
       "      <td>12856.445</td>\n",
       "      <td>12230.449</td>\n",
       "      <td>7272.026</td>\n",
       "      <td>7910.742</td>\n",
       "      <td>2780.375</td>\n",
       "      <td>3765.503</td>\n",
       "      <td>13048.327</td>\n",
       "      <td>-7924.309</td>\n",
       "      <td>-436.555</td>\n",
       "      <td>223.759</td>\n",
       "    </tr>\n",
       "    <tr>\n",
       "      <th>txdc</th>\n",
       "      <td>0.0</td>\n",
       "      <td>0.0</td>\n",
       "      <td>0.0</td>\n",
       "      <td>0.0</td>\n",
       "      <td>0.0</td>\n",
       "      <td>0.0</td>\n",
       "      <td>0.0</td>\n",
       "      <td>1567.940</td>\n",
       "      <td>2278.328</td>\n",
       "      <td>4303.388</td>\n",
       "      <td>...</td>\n",
       "      <td>2604.536</td>\n",
       "      <td>36288.759</td>\n",
       "      <td>30756.429</td>\n",
       "      <td>25088.180</td>\n",
       "      <td>42879.676</td>\n",
       "      <td>31768.118</td>\n",
       "      <td>-31110.180</td>\n",
       "      <td>11134.389</td>\n",
       "      <td>-55740.294</td>\n",
       "      <td>-53632.139</td>\n",
       "    </tr>\n",
       "    <tr>\n",
       "      <th>esubc</th>\n",
       "      <td>0.0</td>\n",
       "      <td>0.0</td>\n",
       "      <td>0.0</td>\n",
       "      <td>0.0</td>\n",
       "      <td>0.0</td>\n",
       "      <td>0.0</td>\n",
       "      <td>0.0</td>\n",
       "      <td>-497.374</td>\n",
       "      <td>-810.275</td>\n",
       "      <td>-950.993</td>\n",
       "      <td>...</td>\n",
       "      <td>-410.038</td>\n",
       "      <td>-5966.603</td>\n",
       "      <td>-2520.133</td>\n",
       "      <td>-7615.653</td>\n",
       "      <td>-8814.837</td>\n",
       "      <td>-10508.104</td>\n",
       "      <td>-2219.747</td>\n",
       "      <td>-2822.162</td>\n",
       "      <td>-4213.460</td>\n",
       "      <td>-2884.740</td>\n",
       "    </tr>\n",
       "  </tbody>\n",
       "</table>\n",
       "<p>5 rows × 55 columns</p>\n",
       "</div>"
      ],
      "text/plain": [
       "year   1964  1965  1966  1967  1968  1969  1970       1971       1972  \\\n",
       "ibc     0.0   0.0   0.0   0.0   0.0   0.0   0.0  25657.248  31259.235   \n",
       "dpc     0.0   0.0   0.0   0.0   0.0   0.0   0.0  25092.648  27930.352   \n",
       "xidoc   0.0   0.0   0.0   0.0   0.0   0.0   0.0    151.978    485.624   \n",
       "txdc    0.0   0.0   0.0   0.0   0.0   0.0   0.0   1567.940   2278.328   \n",
       "esubc   0.0   0.0   0.0   0.0   0.0   0.0   0.0   -497.374   -810.275   \n",
       "\n",
       "year        1973  ...        2009        2010        2011        2012  \\\n",
       "ibc    44663.531  ...  508484.931  771795.310  886844.517  856770.876   \n",
       "dpc    33265.599  ...  460597.401  468622.859  494411.512  522737.685   \n",
       "xidoc    627.298  ...   12856.445   12230.449    7272.026    7910.742   \n",
       "txdc    4303.388  ...    2604.536   36288.759   30756.429   25088.180   \n",
       "esubc   -950.993  ...    -410.038   -5966.603   -2520.133   -7615.653   \n",
       "\n",
       "year         2013        2014        2015        2016         2017  \\\n",
       "ibc    990436.940  985981.035  859660.825  908283.718  1049283.023   \n",
       "dpc    546280.763  569042.876  630134.422  627839.161   659460.831   \n",
       "xidoc    2780.375    3765.503   13048.327   -7924.309     -436.555   \n",
       "txdc    42879.676   31768.118  -31110.180   11134.389   -55740.294   \n",
       "esubc   -8814.837  -10508.104   -2219.747   -2822.162    -4213.460   \n",
       "\n",
       "year          2018  \n",
       "ibc    1159666.291  \n",
       "dpc     683014.812  \n",
       "xidoc      223.759  \n",
       "txdc    -53632.139  \n",
       "esubc    -2884.740  \n",
       "\n",
       "[5 rows x 55 columns]"
      ]
     },
     "execution_count": 29,
     "metadata": {},
     "output_type": "execute_result"
    }
   ],
   "source": [
    "cf_nominal.head()"
   ]
  },
  {
   "cell_type": "raw",
   "metadata": {},
   "source": [
    "# The variable labels are available at the link below. --go to the tab \"variable description\"\n",
    "#  https://wrds-web.wharton.upenn.edu/wrds/ds/compd/funda/index.cfm \n",
    "\n",
    "\n",
    "# to check individua details, go to this link and change the id to what you want to check\n",
    "# https://wrds-web.wharton.upenn.edu/wrds/query_forms/variable_documentation.cfm?vendorCode=COMP&libraryCode=compd&fileCode=funda&id=acchg\n",
    "\n",
    "import sys\n",
    "\n",
    "url = input(\"Enter the URL: \")\n",
    "tables = pd.io.html.read_html(url)\n",
    "\n",
    "for index, table in enumerate(tables):\n",
    "    print(\"Table {}:\".format(index + 1))\n",
    "    print(table.head() + '\\n')\n",
    "    print('-' * 60)\n",
    "    print('\\n')\n",
    "\n",
    "choice = int(input(\"Enter the number of the table you want: \")) - 1\n",
    "filename = input(\"Enter a filename (.csv extension assumed): \") + '.csv'\n",
    "\n",
    "with open(filename, 'w') as outfile:\n",
    "    tables[choice].to_csv(outfile, index=False, header=False)"
   ]
  },
  {
   "cell_type": "raw",
   "metadata": {},
   "source": [
    "# Save all the files to csv\n",
    "\n",
    "cf_nominal.to_csv('cf_nominal.csv')\n",
    "is_nominal.to_csv('is_nominal.csv')\n",
    "bs_nominal.to_csv('bs_nominal.csv')"
   ]
  },
  {
   "cell_type": "code",
   "execution_count": 28,
   "metadata": {},
   "outputs": [],
   "source": [
    "# Save files to single file\n",
    "# !pip install xlsxwriter #required to run only first time\n",
    "import xlsxwriter\n",
    "\n",
    "writer = pd.ExcelWriter('sp500_nominal.xlsx', engine='xlsxwriter')\n",
    "\n",
    "cf_nominal.to_excel(writer, sheet_name='CashFlow')\n",
    "is_nominal.to_excel(writer, sheet_name='IncomeSt')\n",
    "bs_nominal.to_excel(writer, sheet_name='BalanceSheet')\n",
    "\n",
    "writer.save()"
   ]
  },
  {
   "cell_type": "code",
   "execution_count": 39,
   "metadata": {},
   "outputs": [
    {
     "data": {
      "text/plain": [
       "<matplotlib.axes._subplots.AxesSubplot at 0x138f4c748>"
      ]
     },
     "execution_count": 39,
     "metadata": {},
     "output_type": "execute_result"
    },
    {
     "data": {
      "image/png": "[encoded data removed]",
      "text/plain": [
       "<Figure size 1440x864 with 1 Axes>"
      ]
     },
     "metadata": {
      "needs_background": "light"
     },
     "output_type": "display_data"
    }
   ],
   "source": [
    "bs_nominal.plot(y=[1990, 2018], kind = 'line', figsize=(20,12))"
   ]
  },
  {
   "cell_type": "markdown",
   "metadata": {},
   "source": [
    "### WIP : run cpi index to get the real value as per 2009 data"
   ]
  },
  {
   "cell_type": "code",
   "execution_count": 271,
   "metadata": {},
   "outputs": [
    {
     "data": {
      "text/plain": [
       "55"
      ]
     },
     "execution_count": 271,
     "metadata": {},
     "output_type": "execute_result"
    }
   ],
   "source": [
    "len(bs_nominal.index)"
   ]
  },
  {
   "cell_type": "code",
   "execution_count": 266,
   "metadata": {},
   "outputs": [],
   "source": [
    "x=0\n",
    "y=1964\n",
    "bs_nominal['cpi2009'] = None\n",
    "# "
   ]
  },
  {
   "cell_type": "code",
   "execution_count": 267,
   "metadata": {},
   "outputs": [],
   "source": [
    "for rows in bs_nominal.index:\n",
    "    bs_nominal['cpi2009']=cpi.inflate(100,2009,to=y)\n",
    "    x+=1\n",
    "    y+=1"
   ]
  },
  {
   "cell_type": "code",
   "execution_count": 274,
   "metadata": {},
   "outputs": [
    {
     "data": {
      "text/html": [
       "<div>\n",
       "<style scoped>\n",
       "    .dataframe tbody tr th:only-of-type {\n",
       "        vertical-align: middle;\n",
       "    }\n",
       "\n",
       "    .dataframe tbody tr th {\n",
       "        vertical-align: top;\n",
       "    }\n",
       "\n",
       "    .dataframe thead th {\n",
       "        text-align: right;\n",
       "    }\n",
       "</style>\n",
       "<table border=\"1\" class=\"dataframe\">\n",
       "  <thead>\n",
       "    <tr style=\"text-align: right;\">\n",
       "      <th></th>\n",
       "      <th>che</th>\n",
       "      <th>rect</th>\n",
       "      <th>invt</th>\n",
       "      <th>aco</th>\n",
       "      <th>act</th>\n",
       "      <th>ppent</th>\n",
       "      <th>ivaeq</th>\n",
       "      <th>ivao</th>\n",
       "      <th>intan</th>\n",
       "      <th>ao</th>\n",
       "      <th>...</th>\n",
       "      <th>dltt</th>\n",
       "      <th>lo</th>\n",
       "      <th>txditc</th>\n",
       "      <th>mib</th>\n",
       "      <th>lt</th>\n",
       "      <th>pstk</th>\n",
       "      <th>ceq</th>\n",
       "      <th>seq</th>\n",
       "      <th>firm_count</th>\n",
       "      <th>cpi2009</th>\n",
       "    </tr>\n",
       "    <tr>\n",
       "      <th>year</th>\n",
       "      <th></th>\n",
       "      <th></th>\n",
       "      <th></th>\n",
       "      <th></th>\n",
       "      <th></th>\n",
       "      <th></th>\n",
       "      <th></th>\n",
       "      <th></th>\n",
       "      <th></th>\n",
       "      <th></th>\n",
       "      <th></th>\n",
       "      <th></th>\n",
       "      <th></th>\n",
       "      <th></th>\n",
       "      <th></th>\n",
       "      <th></th>\n",
       "      <th></th>\n",
       "      <th></th>\n",
       "      <th></th>\n",
       "      <th></th>\n",
       "      <th></th>\n",
       "    </tr>\n",
       "  </thead>\n",
       "  <tbody>\n",
       "    <tr>\n",
       "      <th>1964</th>\n",
       "      <td>27442.336</td>\n",
       "      <td>41708.533</td>\n",
       "      <td>42793.750</td>\n",
       "      <td>896.172</td>\n",
       "      <td>115863.171</td>\n",
       "      <td>169132.352</td>\n",
       "      <td>9057.448</td>\n",
       "      <td>4549.275</td>\n",
       "      <td>1588.047</td>\n",
       "      <td>4774.572</td>\n",
       "      <td>...</td>\n",
       "      <td>61961.056</td>\n",
       "      <td>4596.522</td>\n",
       "      <td>5183.309</td>\n",
       "      <td>2972.954</td>\n",
       "      <td>121440.119</td>\n",
       "      <td>6600.878</td>\n",
       "      <td>122014.505</td>\n",
       "      <td>128740.249</td>\n",
       "      <td>426</td>\n",
       "      <td>117.046011</td>\n",
       "    </tr>\n",
       "    <tr>\n",
       "      <th>1965</th>\n",
       "      <td>28193.630</td>\n",
       "      <td>47960.408</td>\n",
       "      <td>48008.429</td>\n",
       "      <td>1357.764</td>\n",
       "      <td>128488.672</td>\n",
       "      <td>186033.580</td>\n",
       "      <td>9839.833</td>\n",
       "      <td>5043.460</td>\n",
       "      <td>1998.899</td>\n",
       "      <td>5120.808</td>\n",
       "      <td>...</td>\n",
       "      <td>68393.845</td>\n",
       "      <td>4920.275</td>\n",
       "      <td>5976.591</td>\n",
       "      <td>3296.943</td>\n",
       "      <td>137842.405</td>\n",
       "      <td>6779.377</td>\n",
       "      <td>140288.617</td>\n",
       "      <td>147303.012</td>\n",
       "      <td>440</td>\n",
       "      <td>117.046011</td>\n",
       "    </tr>\n",
       "    <tr>\n",
       "      <th>1966</th>\n",
       "      <td>25695.608</td>\n",
       "      <td>55323.221</td>\n",
       "      <td>55282.653</td>\n",
       "      <td>1724.494</td>\n",
       "      <td>141449.216</td>\n",
       "      <td>211183.899</td>\n",
       "      <td>11295.508</td>\n",
       "      <td>5790.974</td>\n",
       "      <td>2355.527</td>\n",
       "      <td>5044.404</td>\n",
       "      <td>...</td>\n",
       "      <td>81047.694</td>\n",
       "      <td>5865.358</td>\n",
       "      <td>6444.649</td>\n",
       "      <td>3640.096</td>\n",
       "      <td>161560.018</td>\n",
       "      <td>6947.436</td>\n",
       "      <td>189001.286</td>\n",
       "      <td>196118.587</td>\n",
       "      <td>453</td>\n",
       "      <td>117.046011</td>\n",
       "    </tr>\n",
       "    <tr>\n",
       "      <th>1967</th>\n",
       "      <td>26202.156</td>\n",
       "      <td>61041.472</td>\n",
       "      <td>60625.755</td>\n",
       "      <td>2133.738</td>\n",
       "      <td>153415.476</td>\n",
       "      <td>237098.590</td>\n",
       "      <td>12074.026</td>\n",
       "      <td>6993.327</td>\n",
       "      <td>2989.269</td>\n",
       "      <td>5811.203</td>\n",
       "      <td>...</td>\n",
       "      <td>95405.602</td>\n",
       "      <td>7271.641</td>\n",
       "      <td>7594.289</td>\n",
       "      <td>4380.477</td>\n",
       "      <td>184442.761</td>\n",
       "      <td>7801.560</td>\n",
       "      <td>210449.084</td>\n",
       "      <td>218398.834</td>\n",
       "      <td>458</td>\n",
       "      <td>117.046011</td>\n",
       "    </tr>\n",
       "    <tr>\n",
       "      <th>1968</th>\n",
       "      <td>29747.677</td>\n",
       "      <td>68362.112</td>\n",
       "      <td>65591.833</td>\n",
       "      <td>3469.659</td>\n",
       "      <td>170695.857</td>\n",
       "      <td>263296.083</td>\n",
       "      <td>15342.247</td>\n",
       "      <td>7384.905</td>\n",
       "      <td>3460.072</td>\n",
       "      <td>7096.320</td>\n",
       "      <td>...</td>\n",
       "      <td>108652.298</td>\n",
       "      <td>7303.308</td>\n",
       "      <td>10713.114</td>\n",
       "      <td>4942.243</td>\n",
       "      <td>214578.322</td>\n",
       "      <td>8507.702</td>\n",
       "      <td>231512.797</td>\n",
       "      <td>240006.781</td>\n",
       "      <td>472</td>\n",
       "      <td>117.046011</td>\n",
       "    </tr>\n",
       "  </tbody>\n",
       "</table>\n",
       "<p>5 rows × 26 columns</p>\n",
       "</div>"
      ],
      "text/plain": [
       "            che       rect       invt       aco         act       ppent  \\\n",
       "year                                                                      \n",
       "1964  27442.336  41708.533  42793.750   896.172  115863.171  169132.352   \n",
       "1965  28193.630  47960.408  48008.429  1357.764  128488.672  186033.580   \n",
       "1966  25695.608  55323.221  55282.653  1724.494  141449.216  211183.899   \n",
       "1967  26202.156  61041.472  60625.755  2133.738  153415.476  237098.590   \n",
       "1968  29747.677  68362.112  65591.833  3469.659  170695.857  263296.083   \n",
       "\n",
       "          ivaeq      ivao     intan        ao  ...        dltt        lo  \\\n",
       "year                                           ...                         \n",
       "1964   9057.448  4549.275  1588.047  4774.572  ...   61961.056  4596.522   \n",
       "1965   9839.833  5043.460  1998.899  5120.808  ...   68393.845  4920.275   \n",
       "1966  11295.508  5790.974  2355.527  5044.404  ...   81047.694  5865.358   \n",
       "1967  12074.026  6993.327  2989.269  5811.203  ...   95405.602  7271.641   \n",
       "1968  15342.247  7384.905  3460.072  7096.320  ...  108652.298  7303.308   \n",
       "\n",
       "         txditc       mib          lt      pstk         ceq         seq  \\\n",
       "year                                                                      \n",
       "1964   5183.309  2972.954  121440.119  6600.878  122014.505  128740.249   \n",
       "1965   5976.591  3296.943  137842.405  6779.377  140288.617  147303.012   \n",
       "1966   6444.649  3640.096  161560.018  6947.436  189001.286  196118.587   \n",
       "1967   7594.289  4380.477  184442.761  7801.560  210449.084  218398.834   \n",
       "1968  10713.114  4942.243  214578.322  8507.702  231512.797  240006.781   \n",
       "\n",
       "      firm_count     cpi2009  \n",
       "year                          \n",
       "1964         426  117.046011  \n",
       "1965         440  117.046011  \n",
       "1966         453  117.046011  \n",
       "1967         458  117.046011  \n",
       "1968         472  117.046011  \n",
       "\n",
       "[5 rows x 26 columns]"
      ]
     },
     "execution_count": 274,
     "metadata": {},
     "output_type": "execute_result"
    }
   ],
   "source": [
    "bs_nominal.head()"
   ]
  },
  {
   "cell_type": "code",
   "execution_count": null,
   "metadata": {},
   "outputs": [],
   "source": []
  }
 ],
 "metadata": {
  "kernelspec": {
   "display_name": "Python 3",
   "language": "python",
   "name": "python3"
  },
  "language_info": {
   "codemirror_mode": {
    "name": "ipython",
    "version": 3
   },
   "file_extension": ".py",
   "mimetype": "text/x-python",
   "name": "python",
   "nbconvert_exporter": "python",
   "pygments_lexer": "ipython3",
   "version": "3.7.3"
  }
 },
 "nbformat": 4,
 "nbformat_minor": 2
}
